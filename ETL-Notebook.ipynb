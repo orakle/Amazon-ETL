{
 "metadata": {
  "name": "ETL-Notebook"
 }, 
 "nbformat": 2, 
 "worksheets": [
  {
   "cells": [
    {
     "cell_type": "code", 
     "collapsed": true, 
     "input": [
      "review_list = []"
     ], 
     "language": "python", 
     "outputs": [], 
     "prompt_number": 11
    }, 
    {
     "cell_type": "code", 
     "collapsed": true, 
     "input": [
      "# Read file into a list", 
      "# Strip new lines", 
      "for line in open('movies.sample.txt'):", 
      "    review_list.append(line.strip())", 
      "    "
     ], 
     "language": "python", 
     "outputs": [], 
     "prompt_number": 12
    }, 
    {
     "cell_type": "code", 
     "collapsed": false, 
     "input": [
      "review_list[0:10]"
     ], 
     "language": "python", 
     "outputs": [
      {
       "output_type": "pyout", 
       "prompt_number": 13, 
       "text": [
        "['product/productId: B003AI2VGA',", 
        " 'review/userId: A141HP4LYPWMSR',", 
        " 'review/profileName: Brian E. Erland \"Rainbow Sphinx\"',", 
        " 'review/helpfulness: 7/7',", 
        " 'review/score: 3.0',", 
        " 'review/time: 1182729600',", 
        " 'review/summary: \"There Is So Much Darkness Now ~ Come For The Miracle\"',", 
        " 'review/text: Synopsis: On the daily trek from Juarez, Mexico to El Paso, Texas an ever increasing number of female workers are found raped and murdered in the surrounding desert. Investigative reporter Karina Danes (Minnie Driver) arrives from Los Angeles to pursue the story and angers both the local police and the factory owners who employee the undocumented aliens with her pointed questions and relentless quest for the truth.<br /><br />Her story goes nationwide when a young girl named Mariela (Ana Claudia Talancon) survives a vicious attack and walks out of the desert crediting the Blessed Virgin for her rescue. Her story is further enhanced when the \"Wounds of Christ\" (stigmata) appear in her palms. She also claims to have received a message of hope for the Virgin Mary and soon a fanatical movement forms around her to fight against the evil that holds such a stranglehold on the area.<br /><br />Critique: Possessing a lifelong fascination with such esoteric matters as Catholic mysticism, miracles and the mysterious appearance of the stigmata, I was immediately attracted to the \\'05 DVD release `Virgin of Juarez\\'. The film offers a rather unique storyline blending current socio-political concerns, the constant flow of Mexican migrant workers back and forth across the U.S./Mexican border and the traditional Catholic beliefs of the Hispanic population. I must say I was quite surprised by the unexpected route taken by the plot and the means and methods by which the heavenly message unfolds.<br /><br />`Virgin of Juarez\\' is not a film that you would care to watch over and over again, but it was interesting enough to merit at least one viewing. Minnie Driver delivers a solid performance and Ana Claudia Talancon is perfect as the fragile and innocent visionary Mariela. Also starring Esai Morales and Angus Macfadyen (Braveheart).',", 
        " '',", 
        " 'product/productId: B003AI2VGA']"
       ]
      }
     ], 
     "prompt_number": 13
    }, 
    {
     "cell_type": "code", 
     "collapsed": true, 
     "input": [
      "grouped_reviews = []", 
      "new_group = []", 
      "for line in review_list:", 
      "    if line != '':", 
      "        new_group.append(line)", 
      "    else:", 
      "        grouped_reviews.append(new_group)", 
      "        new_group = []"
     ], 
     "language": "python", 
     "outputs": [], 
     "prompt_number": 17
    }, 
    {
     "cell_type": "code", 
     "collapsed": false, 
     "input": [
      "grouped_reviews[10]"
     ], 
     "language": "python", 
     "outputs": [
      {
       "output_type": "pyout", 
       "prompt_number": 21, 
       "text": [
        "['product/productId: B00006HAXW',", 
        " 'review/userId: A2TX99AZKDK0V7',", 
        " 'review/profileName: Henrique Peirano',", 
        " 'review/helpfulness: 22/23',", 
        " 'review/score: 4.0',", 
        " 'review/time: 1039564800',", 
        " 'review/summary: I expected more.',", 
        " \"review/text: I have the Doo Wop 50 and 51 DVDs, and was anxiously waiting for Rock, Rhythm and Doo Wop to arrive. From the first video, which featured the cr&egrave;me de la cr&egrave;me of the 50s groups, to Doo Wop 51, it was clear that there was a giant leap forward in terms of production. Better lighting, better stage layout, and better sound quality.<br />Sadly, in terms of editing, they went overboard this time. Excessive use of pre-recorded clapping and cheering really irritated me. There are times where you can hardly hear the singing, because the pre-recorded cheering was so loud. Imagine 5 stadiums hosting the Super Bowl all crammed into one theater. It's simply too artificial. We want not only the authentic groups, but also the authentic reaction from who was there. And believe me, we don't need any extra cheering to get more goosebumps from watching these wonderful groups.<br />For whoever edited the show, I would also be careful with too much filming of the spectators during the songs and make sure to look back at Doo Wop 51 for better camera angles of the groups.<br />Is this DVD worth buying? Definately, because groups/singers Fred Parris &amp; The Satins, Little Anthony &amp; The Imperials, Little Richard, The Limelites, Jerry Butler, Lloyd Price, Bobby Lewis, and the absolutely fantastic Contours make it all worthwhile.<br />I hope TJ Lubinsky keeps on making shows like this, they're a wonderful experience for all ages.\"]"
       ]
      }
     ], 
     "prompt_number": 21
    }, 
    {
     "cell_type": "code", 
     "collapsed": true, 
     "input": [], 
     "language": "python", 
     "outputs": []
    }
   ]
  }
 ]
}